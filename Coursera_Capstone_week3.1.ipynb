{
 "cells": [
  {
   "cell_type": "markdown",
   "metadata": {},
   "source": [
    "## Capstone Project : Week 3.1"
   ]
  },
  {
   "cell_type": "markdown",
   "metadata": {},
   "source": [
    "### Importing the libraries required"
   ]
  },
  {
   "cell_type": "code",
   "execution_count": 25,
   "metadata": {},
   "outputs": [],
   "source": [
    "import pandas as pd\n",
    "from urllib.request import urlopen\n",
    "from bs4 import BeautifulSoup"
   ]
  },
  {
   "cell_type": "markdown",
   "metadata": {},
   "source": [
    "### Web scrapping to obtain the table"
   ]
  },
  {
   "cell_type": "code",
   "execution_count": 26,
   "metadata": {},
   "outputs": [
    {
     "data": {
      "text/plain": [
       "'<table class=\"wikitable sortable\">\\n <tbody>\\n  <tr>\\n   <th>\\n    Postal Code\\n   </th>\\n   <th>\\n    Borough\\n   </th>\\n   <th>\\n    Neighborhood\\n   </th>\\n  </tr>\\n  <tr>\\n   <td>\\n    M1A\\n   </td>\\n   <td>\\n    Not assigned\\n   </td>\\n   <td>\\n   </td>\\n  </tr>\\n  <tr>\\n   <td>\\n    M2A\\n   </td>\\n   <td>\\n    Not assigned\\n   </td>\\n   <td>\\n   </td>\\n  </tr>\\n  <tr>\\n   <td>\\n    M3A\\n   </td>\\n   <td>\\n    North York\\n   </td>\\n   <td>\\n    Parkwoods\\n   </td>\\n  </tr>\\n  <tr>\\n   <td>\\n    M4A\\n   </td>\\n   <td>\\n    North York\\n   </td>\\n   <td>\\n    Victoria Village\\n   </td>\\n  </tr>\\n  <tr>\\n   <td>\\n    M5A\\n   </td>\\n   <td>\\n    Downtown Toronto\\n   </td>\\n   <td>\\n    Regent Park, Harbourfront\\n   </td>\\n  </tr>\\n  <tr>\\n   <td>\\n    M6A\\n   </td>\\n   <td>\\n    North York\\n   </td>\\n   <td>\\n    Lawrence Manor, Lawrence Heights\\n   </td>\\n  </tr>\\n  <tr>\\n   <td>\\n    M7A\\n   </td>\\n   <td>\\n    Downtown Toronto\\n   </td>\\n   <td>\\n    Queen\\'s Park, Ontario Provincial Government\\n   </td>\\n  </tr>\\n  <tr>\\n   <td>\\n    M8A\\n   </td>\\n   <td>\\n    Not assigned\\n   </td>\\n   <td>\\n   </td>\\n  </tr>\\n  <tr>\\n   <td>\\n    M9A\\n   </td>\\n   <td>\\n    Etobicoke\\n   </td>\\n   <td>\\n    Islington Avenue\\n   </td>\\n  </tr>\\n  <tr>\\n   <td>\\n    M1B\\n   </td>\\n   <td>\\n    Scarborough\\n   </td>\\n   <td>\\n    Malvern, Rouge\\n   </td>\\n  </tr>\\n  <tr>\\n   <td>\\n    M2B\\n   </td>\\n   <td>\\n    Not assigned\\n   </td>\\n   <td>\\n   </td>\\n  </tr>\\n  <tr>\\n   <td>\\n    M3B\\n   </td>\\n   <td>\\n    North York\\n   </td>\\n   <td>\\n    Don Mills\\n   </td>\\n  </tr>\\n  <tr>\\n   <td>\\n    M4B\\n   </td>\\n   <td>\\n    East York\\n   </td>\\n   <td>\\n    Parkview Hill, Woodbine Gardens\\n   </td>\\n  </tr>\\n  <tr>\\n   <td>\\n    M5B\\n   </td>\\n   <td>\\n    Downtown Toronto\\n   </td>\\n   <td>\\n    Garden District, Ryerson\\n   </td>\\n  </tr>\\n  <tr>\\n   <td>\\n    M6B\\n   </td>\\n   <td>\\n    North York\\n   </td>\\n   <td>\\n    Glencairn\\n   </td>\\n  </tr>\\n  <tr>\\n   <td>\\n    M7B\\n   </td>\\n   <td>\\n    Not assigned\\n   </td>\\n   <td>\\n   </td>\\n  </tr>\\n  <tr>\\n   <td>\\n    M8B\\n   </td>\\n   <td>\\n    Not assigned\\n   </td>\\n   <td>\\n   </td>\\n  </tr>\\n  <tr>\\n   <td>\\n    M9B\\n   </td>\\n   <td>\\n    Etobicoke\\n   </td>\\n   <td>\\n    West Deane Park, Princess Gardens, Martin Grove, Islington, Cloverdale\\n   </td>\\n  </tr>\\n  <tr>\\n   <td>\\n    M1C\\n   </td>\\n   <td>\\n    Scarborough\\n   </td>\\n   <td>\\n    Rouge Hill, Port Union, Highland Creek\\n   </td>\\n  </tr>\\n  <tr>\\n   <td>\\n    M2C\\n   </td>\\n   <td>\\n    Not assigned\\n   </td>\\n   <td>\\n   </td>\\n  </tr>\\n  <tr>\\n   <td>\\n    M3C\\n   </td>\\n   <td>\\n    North York\\n   </td>\\n   <td>\\n    Don Mills\\n   </td>\\n  </tr>\\n  <tr>\\n   <td>\\n    M4C\\n   </td>\\n   <td>\\n    East York\\n   </td>\\n   <td>\\n    Woodbine Heights\\n   </td>\\n  </tr>\\n  <tr>\\n   <td>\\n    M5C\\n   </td>\\n   <td>\\n    Downtown Toronto\\n   </td>\\n   <td>\\n    St. James Town\\n   </td>\\n  </tr>\\n  <tr>\\n   <td>\\n    M6C\\n   </td>\\n   <td>\\n    York\\n   </td>\\n   <td>\\n    Humewood-Cedarvale\\n   </td>\\n  </tr>\\n  <tr>\\n   <td>\\n    M7C\\n   </td>\\n   <td>\\n    Not assigned\\n   </td>\\n   <td>\\n   </td>\\n  </tr>\\n  <tr>\\n   <td>\\n    M8C\\n   </td>\\n   <td>\\n    Not assigned\\n   </td>\\n   <td>\\n   </td>\\n  </tr>\\n  <tr>\\n   <td>\\n    M9C\\n   </td>\\n   <td>\\n    Etobicoke\\n   </td>\\n   <td>\\n    Eringate, Bloordale Gardens, Old Burnhamthorpe, Markland Wood\\n   </td>\\n  </tr>\\n  <tr>\\n   <td>\\n    M1E\\n   </td>\\n   <td>\\n    Scarborough\\n   </td>\\n   <td>\\n    Guildwood, Morningside, West Hill\\n   </td>\\n  </tr>\\n  <tr>\\n   <td>\\n    M2E\\n   </td>\\n   <td>\\n    Not assigned\\n   </td>\\n   <td>\\n   </td>\\n  </tr>\\n  <tr>\\n   <td>\\n    M3E\\n   </td>\\n   <td>\\n    Not assigned\\n   </td>\\n   <td>\\n   </td>\\n  </tr>\\n  <tr>\\n   <td>\\n    M4E\\n   </td>\\n   <td>\\n    East Toronto\\n   </td>\\n   <td>\\n    The Beaches\\n   </td>\\n  </tr>\\n  <tr>\\n   <td>\\n    M5E\\n   </td>\\n   <td>\\n    Downtown Toronto\\n   </td>\\n   <td>\\n    Berczy Park\\n   </td>\\n  </tr>\\n  <tr>\\n   <td>\\n    M6E\\n   </td>\\n   <td>\\n    York\\n   </td>\\n   <td>\\n    Caledonia-Fairbanks\\n   </td>\\n  </tr>\\n  <tr>\\n   <td>\\n    M7E\\n   </td>\\n   <td>\\n    Not assigned\\n   </td>\\n   <td>\\n   </td>\\n  </tr>\\n  <tr>\\n   <td>\\n    M8E\\n   </td>\\n   <td>\\n    Not assigned\\n   </td>\\n   <td>\\n   </td>\\n  </tr>\\n  <tr>\\n   <td>\\n    M9E\\n   </td>\\n   <td>\\n    Not assigned\\n   </td>\\n   <td>\\n   </td>\\n  </tr>\\n  <tr>\\n   <td>\\n    M1G\\n   </td>\\n   <td>\\n    Scarborough\\n   </td>\\n   <td>\\n    Woburn\\n   </td>\\n  </tr>\\n  <tr>\\n   <td>\\n    M2G\\n   </td>\\n   <td>\\n    Not assigned\\n   </td>\\n   <td>\\n   </td>\\n  </tr>\\n  <tr>\\n   <td>\\n    M3G\\n   </td>\\n   <td>\\n    Not assigned\\n   </td>\\n   <td>\\n   </td>\\n  </tr>\\n  <tr>\\n   <td>\\n    M4G\\n   </td>\\n   <td>\\n    East York\\n   </td>\\n   <td>\\n    Leaside\\n   </td>\\n  </tr>\\n  <tr>\\n   <td>\\n    M5G\\n   </td>\\n   <td>\\n    Downtown Toronto\\n   </td>\\n   <td>\\n    Central Bay Street\\n   </td>\\n  </tr>\\n  <tr>\\n   <td>\\n    M6G\\n   </td>\\n   <td>\\n    Downtown Toronto\\n   </td>\\n   <td>\\n    Christie\\n   </td>\\n  </tr>\\n  <tr>\\n   <td>\\n    M7G\\n   </td>\\n   <td>\\n    Not assigned\\n   </td>\\n   <td>\\n   </td>\\n  </tr>\\n  <tr>\\n   <td>\\n    M8G\\n   </td>\\n   <td>\\n    Not assigned\\n   </td>\\n   <td>\\n   </td>\\n  </tr>\\n  <tr>\\n   <td>\\n    M9G\\n   </td>\\n   <td>\\n    Not assigned\\n   </td>\\n   <td>\\n   </td>\\n  </tr>\\n  <tr>\\n   <td>\\n    M1H\\n   </td>\\n   <td>\\n    Scarborough\\n   </td>\\n   <td>\\n    Cedarbrae\\n   </td>\\n  </tr>\\n  <tr>\\n   <td>\\n    M2H\\n   </td>\\n   <td>\\n    North York\\n   </td>\\n   <td>\\n    Hillcrest Village\\n   </td>\\n  </tr>\\n  <tr>\\n   <td>\\n    M3H\\n   </td>\\n   <td>\\n    North York\\n   </td>\\n   <td>\\n    Bathurst Manor, Wilson Heights, Downsview North\\n   </td>\\n  </tr>\\n  <tr>\\n   <td>\\n    M4H\\n   </td>\\n   <td>\\n    East York\\n   </td>\\n   <td>\\n    Thorncliffe Park\\n   </td>\\n  </tr>\\n  <tr>\\n   <td>\\n    M5H\\n   </td>\\n   <td>\\n    Downtown Toronto\\n   </td>\\n   <td>\\n    Richmond, Adelaide, King\\n   </td>\\n  </tr>\\n  <tr>\\n   <td>\\n    M6H\\n   </td>\\n   <td>\\n    West Toronto\\n   </td>\\n   <td>\\n    Dufferin, Dovercourt Village\\n   </td>\\n  </tr>\\n  <tr>\\n   <td>\\n    M7H\\n   </td>\\n   <td>\\n    Not assigned\\n   </td>\\n   <td>\\n   </td>\\n  </tr>\\n  <tr>\\n   <td>\\n    M8H\\n   </td>\\n   <td>\\n    Not assigned\\n   </td>\\n   <td>\\n   </td>\\n  </tr>\\n  <tr>\\n   <td>\\n    M9H\\n   </td>\\n   <td>\\n    Not assigned\\n   </td>\\n   <td>\\n   </td>\\n  </tr>\\n  <tr>\\n   <td>\\n    M1J\\n   </td>\\n   <td>\\n    Scarborough\\n   </td>\\n   <td>\\n    Scarborough Village\\n   </td>\\n  </tr>\\n  <tr>\\n   <td>\\n    M2J\\n   </td>\\n   <td>\\n    North York\\n   </td>\\n   <td>\\n    Fairview, Henry Farm, Oriole\\n   </td>\\n  </tr>\\n  <tr>\\n   <td>\\n    M3J\\n   </td>\\n   <td>\\n    North York\\n   </td>\\n   <td>\\n    Northwood Park, York University\\n   </td>\\n  </tr>\\n  <tr>\\n   <td>\\n    M4J\\n   </td>\\n   <td>\\n    East York\\n   </td>\\n   <td>\\n    East Toronto\\n   </td>\\n  </tr>\\n  <tr>\\n   <td>\\n    M5J\\n   </td>\\n   <td>\\n    Downtown Toronto\\n   </td>\\n   <td>\\n    Harbourfront East, Union Station, Toronto Islands\\n   </td>\\n  </tr>\\n  <tr>\\n   <td>\\n    M6J\\n   </td>\\n   <td>\\n    West Toronto\\n   </td>\\n   <td>\\n    Little Portugal, Trinity\\n   </td>\\n  </tr>\\n  <tr>\\n   <td>\\n    M7J\\n   </td>\\n   <td>\\n    Not assigned\\n   </td>\\n   <td>\\n   </td>\\n  </tr>\\n  <tr>\\n   <td>\\n    M8J\\n   </td>\\n   <td>\\n    Not assigned\\n   </td>\\n   <td>\\n   </td>\\n  </tr>\\n  <tr>\\n   <td>\\n    M9J\\n   </td>\\n   <td>\\n    Not assigned\\n   </td>\\n   <td>\\n   </td>\\n  </tr>\\n  <tr>\\n   <td>\\n    M1K\\n   </td>\\n   <td>\\n    Scarborough\\n   </td>\\n   <td>\\n    Kennedy Park, Ionview, East Birchmount Park\\n   </td>\\n  </tr>\\n  <tr>\\n   <td>\\n    M2K\\n   </td>\\n   <td>\\n    North York\\n   </td>\\n   <td>\\n    Bayview Village\\n   </td>\\n  </tr>\\n  <tr>\\n   <td>\\n    M3K\\n   </td>\\n   <td>\\n    North York\\n   </td>\\n   <td>\\n    Downsview\\n   </td>\\n  </tr>\\n  <tr>\\n   <td>\\n    M4K\\n   </td>\\n   <td>\\n    East Toronto\\n   </td>\\n   <td>\\n    The Danforth West, Riverdale\\n   </td>\\n  </tr>\\n  <tr>\\n   <td>\\n    M5K\\n   </td>\\n   <td>\\n    Downtown Toronto\\n   </td>\\n   <td>\\n    Toronto Dominion Centre, Design Exchange\\n   </td>\\n  </tr>\\n  <tr>\\n   <td>\\n    M6K\\n   </td>\\n   <td>\\n    West Toronto\\n   </td>\\n   <td>\\n    Brockton, Parkdale Village, Exhibition Place\\n   </td>\\n  </tr>\\n  <tr>\\n   <td>\\n    M7K\\n   </td>\\n   <td>\\n    Not assigned\\n   </td>\\n   <td>\\n   </td>\\n  </tr>\\n  <tr>\\n   <td>\\n    M8K\\n   </td>\\n   <td>\\n    Not assigned\\n   </td>\\n   <td>\\n   </td>\\n  </tr>\\n  <tr>\\n   <td>\\n    M9K\\n   </td>\\n   <td>\\n    Not assigned\\n   </td>\\n   <td>\\n   </td>\\n  </tr>\\n  <tr>\\n   <td>\\n    M1L\\n   </td>\\n   <td>\\n    Scarborough\\n   </td>\\n   <td>\\n    Golden Mile, Clairlea, Oakridge\\n   </td>\\n  </tr>\\n  <tr>\\n   <td>\\n    M2L\\n   </td>\\n   <td>\\n    North York\\n   </td>\\n   <td>\\n    York Mills, Silver Hills\\n   </td>\\n  </tr>\\n  <tr>\\n   <td>\\n    M3L\\n   </td>\\n   <td>\\n    North York\\n   </td>\\n   <td>\\n    Downsview\\n   </td>\\n  </tr>\\n  <tr>\\n   <td>\\n    M4L\\n   </td>\\n   <td>\\n    East Toronto\\n   </td>\\n   <td>\\n    India Bazaar, The Beaches West\\n   </td>\\n  </tr>\\n  <tr>\\n   <td>\\n    M5L\\n   </td>\\n   <td>\\n    Downtown Toronto\\n   </td>\\n   <td>\\n    Commerce Court, Victoria Hotel\\n   </td>\\n  </tr>\\n  <tr>\\n   <td>\\n    M6L\\n   </td>\\n   <td>\\n    North York\\n   </td>\\n   <td>\\n    North Park, Maple Leaf Park, Upwood Park\\n   </td>\\n  </tr>\\n  <tr>\\n   <td>\\n    M7L\\n   </td>\\n   <td>\\n    Not assigned\\n   </td>\\n   <td>\\n   </td>\\n  </tr>\\n  <tr>\\n   <td>\\n    M8L\\n   </td>\\n   <td>\\n    Not assigned\\n   </td>\\n   <td>\\n   </td>\\n  </tr>\\n  <tr>\\n   <td>\\n    M9L\\n   </td>\\n   <td>\\n    North York\\n   </td>\\n   <td>\\n    Humber Summit\\n   </td>\\n  </tr>\\n  <tr>\\n   <td>\\n    M1M\\n   </td>\\n   <td>\\n    Scarborough\\n   </td>\\n   <td>\\n    Cliffside, Cliffcrest, Scarborough Village West\\n   </td>\\n  </tr>\\n  <tr>\\n   <td>\\n    M2M\\n   </td>\\n   <td>\\n    North York\\n   </td>\\n   <td>\\n    Willowdale, Newtonbrook\\n   </td>\\n  </tr>\\n  <tr>\\n   <td>\\n    M3M\\n   </td>\\n   <td>\\n    North York\\n   </td>\\n   <td>\\n    Downsview\\n   </td>\\n  </tr>\\n  <tr>\\n   <td>\\n    M4M\\n   </td>\\n   <td>\\n    East Toronto\\n   </td>\\n   <td>\\n    Studio District\\n   </td>\\n  </tr>\\n  <tr>\\n   <td>\\n    M5M\\n   </td>\\n   <td>\\n    North York\\n   </td>\\n   <td>\\n    Bedford Park, Lawrence Manor East\\n   </td>\\n  </tr>\\n  <tr>\\n   <td>\\n    M6M\\n   </td>\\n   <td>\\n    York\\n   </td>\\n   <td>\\n    Del Ray, Mount Dennis, Keelsdale and Silverthorn\\n   </td>\\n  </tr>\\n  <tr>\\n   <td>\\n    M7M\\n   </td>\\n   <td>\\n    Not assigned\\n   </td>\\n   <td>\\n   </td>\\n  </tr>\\n  <tr>\\n   <td>\\n    M8M\\n   </td>\\n   <td>\\n    Not assigned\\n   </td>\\n   <td>\\n   </td>\\n  </tr>\\n  <tr>\\n   <td>\\n    M9M\\n   </td>\\n   <td>\\n    North York\\n   </td>\\n   <td>\\n    Humberlea, Emery\\n   </td>\\n  </tr>\\n  <tr>\\n   <td>\\n    M1N\\n   </td>\\n   <td>\\n    Scarborough\\n   </td>\\n   <td>\\n    Birch Cliff, Cliffside West\\n   </td>\\n  </tr>\\n  <tr>\\n   <td>\\n    M2N\\n   </td>\\n   <td>\\n    North York\\n   </td>\\n   <td>\\n    Willowdale\\n   </td>\\n  </tr>\\n  <tr>\\n   <td>\\n    M3N\\n   </td>\\n   <td>\\n    North York\\n   </td>\\n   <td>\\n    Downsview\\n   </td>\\n  </tr>\\n  <tr>\\n   <td>\\n    M4N\\n   </td>\\n   <td>\\n    Central Toronto\\n   </td>\\n   <td>\\n    Lawrence Park\\n   </td>\\n  </tr>\\n  <tr>\\n   <td>\\n    M5N\\n   </td>\\n   <td>\\n    Central Toronto\\n   </td>\\n   <td>\\n    Roselawn\\n   </td>\\n  </tr>\\n  <tr>\\n   <td>\\n    M6N\\n   </td>\\n   <td>\\n    York\\n   </td>\\n   <td>\\n    Runnymede, The Junction North\\n   </td>\\n  </tr>\\n  <tr>\\n   <td>\\n    M7N\\n   </td>\\n   <td>\\n    Not assigned\\n   </td>\\n   <td>\\n   </td>\\n  </tr>\\n  <tr>\\n   <td>\\n    M8N\\n   </td>\\n   <td>\\n    Not assigned\\n   </td>\\n   <td>\\n   </td>\\n  </tr>\\n  <tr>\\n   <td>\\n    M9N\\n   </td>\\n   <td>\\n    York\\n   </td>\\n   <td>\\n    Weston\\n   </td>\\n  </tr>\\n  <tr>\\n   <td>\\n    M1P\\n   </td>\\n   <td>\\n    Scarborough\\n   </td>\\n   <td>\\n    Dorset Park, Wexford Heights, Scarborough Town Centre\\n   </td>\\n  </tr>\\n  <tr>\\n   <td>\\n    M2P\\n   </td>\\n   <td>\\n    North York\\n   </td>\\n   <td>\\n    York Mills West\\n   </td>\\n  </tr>\\n  <tr>\\n   <td>\\n    M3P\\n   </td>\\n   <td>\\n    Not assigned\\n   </td>\\n   <td>\\n   </td>\\n  </tr>\\n  <tr>\\n   <td>\\n    M4P\\n   </td>\\n   <td>\\n    Central Toronto\\n   </td>\\n   <td>\\n    Davisville North\\n   </td>\\n  </tr>\\n  <tr>\\n   <td>\\n    M5P\\n   </td>\\n   <td>\\n    Central Toronto\\n   </td>\\n   <td>\\n    Forest Hill North &amp; West\\n   </td>\\n  </tr>\\n  <tr>\\n   <td>\\n    M6P\\n   </td>\\n   <td>\\n    West Toronto\\n   </td>\\n   <td>\\n    High Park, The Junction South\\n   </td>\\n  </tr>\\n  <tr>\\n   <td>\\n    M7P\\n   </td>\\n   <td>\\n    Not assigned\\n   </td>\\n   <td>\\n   </td>\\n  </tr>\\n  <tr>\\n   <td>\\n    M8P\\n   </td>\\n   <td>\\n    Not assigned\\n   </td>\\n   <td>\\n   </td>\\n  </tr>\\n  <tr>\\n   <td>\\n    M9P\\n   </td>\\n   <td>\\n    Etobicoke\\n   </td>\\n   <td>\\n    Westmount\\n   </td>\\n  </tr>\\n  <tr>\\n   <td>\\n    M1R\\n   </td>\\n   <td>\\n    Scarborough\\n   </td>\\n   <td>\\n    Wexford, Maryvale\\n   </td>\\n  </tr>\\n  <tr>\\n   <td>\\n    M2R\\n   </td>\\n   <td>\\n    North York\\n   </td>\\n   <td>\\n    Willowdale\\n   </td>\\n  </tr>\\n  <tr>\\n   <td>\\n    M3R\\n   </td>\\n   <td>\\n    Not assigned\\n   </td>\\n   <td>\\n   </td>\\n  </tr>\\n  <tr>\\n   <td>\\n    M4R\\n   </td>\\n   <td>\\n    Central Toronto\\n   </td>\\n   <td>\\n    North Toronto West\\n   </td>\\n  </tr>\\n  <tr>\\n   <td>\\n    M5R\\n   </td>\\n   <td>\\n    Central Toronto\\n   </td>\\n   <td>\\n    The Annex, North Midtown, Yorkville\\n   </td>\\n  </tr>\\n  <tr>\\n   <td>\\n    M6R\\n   </td>\\n   <td>\\n    West Toronto\\n   </td>\\n   <td>\\n    Parkdale, Roncesvalles\\n   </td>\\n  </tr>\\n  <tr>\\n   <td>\\n    M7R\\n   </td>\\n   <td>\\n    Mississauga\\n   </td>\\n   <td>\\n    Canada Post Gateway Processing Centre\\n   </td>\\n  </tr>\\n  <tr>\\n   <td>\\n    M8R\\n   </td>\\n   <td>\\n    Not assigned\\n   </td>\\n   <td>\\n   </td>\\n  </tr>\\n  <tr>\\n   <td>\\n    M9R\\n   </td>\\n   <td>\\n    Etobicoke\\n   </td>\\n   <td>\\n    Kingsview Village, St. Phillips, Martin Grove Gardens, Richview Gardens\\n   </td>\\n  </tr>\\n  <tr>\\n   <td>\\n    M1S\\n   </td>\\n   <td>\\n    Scarborough\\n   </td>\\n   <td>\\n    Agincourt\\n   </td>\\n  </tr>\\n  <tr>\\n   <td>\\n    M2S\\n   </td>\\n   <td>\\n    Not assigned\\n   </td>\\n   <td>\\n   </td>\\n  </tr>\\n  <tr>\\n   <td>\\n    M3S\\n   </td>\\n   <td>\\n    Not assigned\\n   </td>\\n   <td>\\n   </td>\\n  </tr>\\n  <tr>\\n   <td>\\n    M4S\\n   </td>\\n   <td>\\n    Central Toronto\\n   </td>\\n   <td>\\n    Davisville\\n   </td>\\n  </tr>\\n  <tr>\\n   <td>\\n    M5S\\n   </td>\\n   <td>\\n    Downtown Toronto\\n   </td>\\n   <td>\\n    University of Toronto, Harbord\\n   </td>\\n  </tr>\\n  <tr>\\n   <td>\\n    M6S\\n   </td>\\n   <td>\\n    West Toronto\\n   </td>\\n   <td>\\n    Runnymede, Swansea\\n   </td>\\n  </tr>\\n  <tr>\\n   <td>\\n    M7S\\n   </td>\\n   <td>\\n    Not assigned\\n   </td>\\n   <td>\\n   </td>\\n  </tr>\\n  <tr>\\n   <td>\\n    M8S\\n   </td>\\n   <td>\\n    Not assigned\\n   </td>\\n   <td>\\n   </td>\\n  </tr>\\n  <tr>\\n   <td>\\n    M9S\\n   </td>\\n   <td>\\n    Not assigned\\n   </td>\\n   <td>\\n   </td>\\n  </tr>\\n  <tr>\\n   <td>\\n    M1T\\n   </td>\\n   <td>\\n    Scarborough\\n   </td>\\n   <td>\\n    Clarks Corners, Tam O\\'Shanter, Sullivan\\n   </td>\\n  </tr>\\n  <tr>\\n   <td>\\n    M2T\\n   </td>\\n   <td>\\n    Not assigned\\n   </td>\\n   <td>\\n   </td>\\n  </tr>\\n  <tr>\\n   <td>\\n    M3T\\n   </td>\\n   <td>\\n    Not assigned\\n   </td>\\n   <td>\\n   </td>\\n  </tr>\\n  <tr>\\n   <td>\\n    M4T\\n   </td>\\n   <td>\\n    Central Toronto\\n   </td>\\n   <td>\\n    Moore Park, Summerhill East\\n   </td>\\n  </tr>\\n  <tr>\\n   <td>\\n    M5T\\n   </td>\\n   <td>\\n    Downtown Toronto\\n   </td>\\n   <td>\\n    Kensington Market, Chinatown, Grange Park\\n   </td>\\n  </tr>\\n  <tr>\\n   <td>\\n    M6T\\n   </td>\\n   <td>\\n    Not assigned\\n   </td>\\n   <td>\\n   </td>\\n  </tr>\\n  <tr>\\n   <td>\\n    M7T\\n   </td>\\n   <td>\\n    Not assigned\\n   </td>\\n   <td>\\n   </td>\\n  </tr>\\n  <tr>\\n   <td>\\n    M8T\\n   </td>\\n   <td>\\n    Not assigned\\n   </td>\\n   <td>\\n   </td>\\n  </tr>\\n  <tr>\\n   <td>\\n    M9T\\n   </td>\\n   <td>\\n    Not assigned\\n   </td>\\n   <td>\\n   </td>\\n  </tr>\\n  <tr>\\n   <td>\\n    M1V\\n   </td>\\n   <td>\\n    Scarborough\\n   </td>\\n   <td>\\n    Milliken, Agincourt North, Steeles East, L\\'Amoreaux East\\n   </td>\\n  </tr>\\n  <tr>\\n   <td>\\n    M2V\\n   </td>\\n   <td>\\n    Not assigned\\n   </td>\\n   <td>\\n   </td>\\n  </tr>\\n  <tr>\\n   <td>\\n    M3V\\n   </td>\\n   <td>\\n    Not assigned\\n   </td>\\n   <td>\\n   </td>\\n  </tr>\\n  <tr>\\n   <td>\\n    M4V\\n   </td>\\n   <td>\\n    Central Toronto\\n   </td>\\n   <td>\\n    Summerhill West, Rathnelly, South Hill, Forest Hill SE, Deer Park\\n   </td>\\n  </tr>\\n  <tr>\\n   <td>\\n    M5V\\n   </td>\\n   <td>\\n    Downtown Toronto\\n   </td>\\n   <td>\\n    CN Tower, King and Spadina, Railway Lands, Harbourfront West, Bathurst Quay, South Niagara, Island airport\\n   </td>\\n  </tr>\\n  <tr>\\n   <td>\\n    M6V\\n   </td>\\n   <td>\\n    Not assigned\\n   </td>\\n   <td>\\n   </td>\\n  </tr>\\n  <tr>\\n   <td>\\n    M7V\\n   </td>\\n   <td>\\n    Not assigned\\n   </td>\\n   <td>\\n   </td>\\n  </tr>\\n  <tr>\\n   <td>\\n    M8V\\n   </td>\\n   <td>\\n    Etobicoke\\n   </td>\\n   <td>\\n    New Toronto, Mimico South, Humber Bay Shores\\n   </td>\\n  </tr>\\n  <tr>\\n   <td>\\n    M9V\\n   </td>\\n   <td>\\n    Etobicoke\\n   </td>\\n   <td>\\n    South Steeles, Silverstone, Humbergate, Jamestown, Mount Olive, Beaumond Heights, Thistletown, Albion Gardens\\n   </td>\\n  </tr>\\n  <tr>\\n   <td>\\n    M1W\\n   </td>\\n   <td>\\n    Scarborough\\n   </td>\\n   <td>\\n    Steeles West, L\\'Amoreaux West\\n   </td>\\n  </tr>\\n  <tr>\\n   <td>\\n    M2W\\n   </td>\\n   <td>\\n    Not assigned\\n   </td>\\n   <td>\\n   </td>\\n  </tr>\\n  <tr>\\n   <td>\\n    M3W\\n   </td>\\n   <td>\\n    Not assigned\\n   </td>\\n   <td>\\n   </td>\\n  </tr>\\n  <tr>\\n   <td>\\n    M4W\\n   </td>\\n   <td>\\n    Downtown Toronto\\n   </td>\\n   <td>\\n    Rosedale\\n   </td>\\n  </tr>\\n  <tr>\\n   <td>\\n    M5W\\n   </td>\\n   <td>\\n    Downtown Toronto\\n   </td>\\n   <td>\\n    Stn A PO Boxes\\n   </td>\\n  </tr>\\n  <tr>\\n   <td>\\n    M6W\\n   </td>\\n   <td>\\n    Not assigned\\n   </td>\\n   <td>\\n   </td>\\n  </tr>\\n  <tr>\\n   <td>\\n    M7W\\n   </td>\\n   <td>\\n    Not assigned\\n   </td>\\n   <td>\\n   </td>\\n  </tr>\\n  <tr>\\n   <td>\\n    M8W\\n   </td>\\n   <td>\\n    Etobicoke\\n   </td>\\n   <td>\\n    Alderwood, Long Branch\\n   </td>\\n  </tr>\\n  <tr>\\n   <td>\\n    M9W\\n   </td>\\n   <td>\\n    Etobicoke\\n   </td>\\n   <td>\\n    Northwest\\n   </td>\\n  </tr>\\n  <tr>\\n   <td>\\n    M1X\\n   </td>\\n   <td>\\n    Scarborough\\n   </td>\\n   <td>\\n    Upper Rouge\\n   </td>\\n  </tr>\\n  <tr>\\n   <td>\\n    M2X\\n   </td>\\n   <td>\\n    Not assigned\\n   </td>\\n   <td>\\n   </td>\\n  </tr>\\n  <tr>\\n   <td>\\n    M3X\\n   </td>\\n   <td>\\n    Not assigned\\n   </td>\\n   <td>\\n   </td>\\n  </tr>\\n  <tr>\\n   <td>\\n    M4X\\n   </td>\\n   <td>\\n    Downtown Toronto\\n   </td>\\n   <td>\\n    St. James Town, Cabbagetown\\n   </td>\\n  </tr>\\n  <tr>\\n   <td>\\n    M5X\\n   </td>\\n   <td>\\n    Downtown Toronto\\n   </td>\\n   <td>\\n    First Canadian Place, Underground city\\n   </td>\\n  </tr>\\n  <tr>\\n   <td>\\n    M6X\\n   </td>\\n   <td>\\n    Not assigned\\n   </td>\\n   <td>\\n   </td>\\n  </tr>\\n  <tr>\\n   <td>\\n    M7X\\n   </td>\\n   <td>\\n    Not assigned\\n   </td>\\n   <td>\\n   </td>\\n  </tr>\\n  <tr>\\n   <td>\\n    M8X\\n   </td>\\n   <td>\\n    Etobicoke\\n   </td>\\n   <td>\\n    The Kingsway, Montgomery Road, Old Mill North\\n   </td>\\n  </tr>\\n  <tr>\\n   <td>\\n    M9X\\n   </td>\\n   <td>\\n    Not assigned\\n   </td>\\n   <td>\\n   </td>\\n  </tr>\\n  <tr>\\n   <td>\\n    M1Y\\n   </td>\\n   <td>\\n    Not assigned\\n   </td>\\n   <td>\\n   </td>\\n  </tr>\\n  <tr>\\n   <td>\\n    M2Y\\n   </td>\\n   <td>\\n    Not assigned\\n   </td>\\n   <td>\\n   </td>\\n  </tr>\\n  <tr>\\n   <td>\\n    M3Y\\n   </td>\\n   <td>\\n    Not assigned\\n   </td>\\n   <td>\\n   </td>\\n  </tr>\\n  <tr>\\n   <td>\\n    M4Y\\n   </td>\\n   <td>\\n    Downtown Toronto\\n   </td>\\n   <td>\\n    Church and Wellesley\\n   </td>\\n  </tr>\\n  <tr>\\n   <td>\\n    M5Y\\n   </td>\\n   <td>\\n    Not assigned\\n   </td>\\n   <td>\\n   </td>\\n  </tr>\\n  <tr>\\n   <td>\\n    M6Y\\n   </td>\\n   <td>\\n    Not assigned\\n   </td>\\n   <td>\\n   </td>\\n  </tr>\\n  <tr>\\n   <td>\\n    M7Y\\n   </td>\\n   <td>\\n    East Toronto\\n   </td>\\n   <td>\\n    Business reply mail Processing Centre\\n   </td>\\n  </tr>\\n  <tr>\\n   <td>\\n    M8Y\\n   </td>\\n   <td>\\n    Etobicoke\\n   </td>\\n   <td>\\n    Old Mill South, King\\'s Mill Park, Sunnylea, Humber Bay, Mimico NE, The Queensway East, Royal York South East, Kingsway Park South East\\n   </td>\\n  </tr>\\n  <tr>\\n   <td>\\n    M9Y\\n   </td>\\n   <td>\\n    Not assigned\\n   </td>\\n   <td>\\n   </td>\\n  </tr>\\n  <tr>\\n   <td>\\n    M1Z\\n   </td>\\n   <td>\\n    Not assigned\\n   </td>\\n   <td>\\n   </td>\\n  </tr>\\n  <tr>\\n   <td>\\n    M2Z\\n   </td>\\n   <td>\\n    Not assigned\\n   </td>\\n   <td>\\n   </td>\\n  </tr>\\n  <tr>\\n   <td>\\n    M3Z\\n   </td>\\n   <td>\\n    Not assigned\\n   </td>\\n   <td>\\n   </td>\\n  </tr>\\n  <tr>\\n   <td>\\n    M4Z\\n   </td>\\n   <td>\\n    Not assigned\\n   </td>\\n   <td>\\n   </td>\\n  </tr>\\n  <tr>\\n   <td>\\n    M5Z\\n   </td>\\n   <td>\\n    Not assigned\\n   </td>\\n   <td>\\n   </td>\\n  </tr>\\n  <tr>\\n   <td>\\n    M6Z\\n   </td>\\n   <td>\\n    Not assigned\\n   </td>\\n   <td>\\n   </td>\\n  </tr>\\n  <tr>\\n   <td>\\n    M7Z\\n   </td>\\n   <td>\\n    Not assigned\\n   </td>\\n   <td>\\n   </td>\\n  </tr>\\n  <tr>\\n   <td>\\n    M8Z\\n   </td>\\n   <td>\\n    Etobicoke\\n   </td>\\n   <td>\\n    Mimico NW, The Queensway West, South of Bloor, Kingsway Park South West, Royal York South West\\n   </td>\\n  </tr>\\n  <tr>\\n   <td>\\n    M9Z\\n   </td>\\n   <td>\\n    Not assigned\\n   </td>\\n   <td>\\n   </td>\\n  </tr>\\n </tbody>\\n</table>\\n'"
      ]
     },
     "execution_count": 26,
     "metadata": {},
     "output_type": "execute_result"
    }
   ],
   "source": [
    "html = urlopen('https://en.wikipedia.org/wiki/List_of_postal_codes_of_Canada:_M')\n",
    "content = BeautifulSoup(html, 'html.parser')\n",
    "table = content.find('table')\n",
    "table.prettify()"
   ]
  },
  {
   "cell_type": "markdown",
   "metadata": {},
   "source": [
    "### Extracting every row from the table and adding it to the new data frame"
   ]
  },
  {
   "cell_type": "code",
   "execution_count": 28,
   "metadata": {},
   "outputs": [
    {
     "data": {
      "text/html": [
       "<div>\n",
       "<style scoped>\n",
       "    .dataframe tbody tr th:only-of-type {\n",
       "        vertical-align: middle;\n",
       "    }\n",
       "\n",
       "    .dataframe tbody tr th {\n",
       "        vertical-align: top;\n",
       "    }\n",
       "\n",
       "    .dataframe thead th {\n",
       "        text-align: right;\n",
       "    }\n",
       "</style>\n",
       "<table border=\"1\" class=\"dataframe\">\n",
       "  <thead>\n",
       "    <tr style=\"text-align: right;\">\n",
       "      <th></th>\n",
       "      <th>PostalCode</th>\n",
       "      <th>Borough</th>\n",
       "      <th>Neighborhood</th>\n",
       "    </tr>\n",
       "  </thead>\n",
       "  <tbody>\n",
       "    <tr>\n",
       "      <th>0</th>\n",
       "      <td>M1A</td>\n",
       "      <td>Not assigned</td>\n",
       "      <td></td>\n",
       "    </tr>\n",
       "    <tr>\n",
       "      <th>1</th>\n",
       "      <td>M2A</td>\n",
       "      <td>Not assigned</td>\n",
       "      <td></td>\n",
       "    </tr>\n",
       "    <tr>\n",
       "      <th>2</th>\n",
       "      <td>M3A</td>\n",
       "      <td>North York</td>\n",
       "      <td>Parkwoods</td>\n",
       "    </tr>\n",
       "    <tr>\n",
       "      <th>3</th>\n",
       "      <td>M4A</td>\n",
       "      <td>North York</td>\n",
       "      <td>Victoria Village</td>\n",
       "    </tr>\n",
       "    <tr>\n",
       "      <th>4</th>\n",
       "      <td>M5A</td>\n",
       "      <td>Downtown Toronto</td>\n",
       "      <td>Regent Park, Harbourfront</td>\n",
       "    </tr>\n",
       "  </tbody>\n",
       "</table>\n",
       "</div>"
      ],
      "text/plain": [
       "  PostalCode           Borough               Neighborhood\n",
       "0        M1A      Not assigned                           \n",
       "1        M2A      Not assigned                           \n",
       "2        M3A        North York                  Parkwoods\n",
       "3        M4A        North York           Victoria Village\n",
       "4        M5A  Downtown Toronto  Regent Park, Harbourfront"
      ]
     },
     "execution_count": 28,
     "metadata": {},
     "output_type": "execute_result"
    }
   ],
   "source": [
    "data = []\n",
    "for tr in table.find_all('tr')[1:]:\n",
    "    row_data = tr.find_all('td')\n",
    "    data.append([cell.text.rstrip(\"\\n\") for cell in row_data])\n",
    "dataset = pd.DataFrame(data, columns = ['PostalCode', 'Borough', 'Neighborhood'])\n",
    "dataset.head(5)"
   ]
  },
  {
   "cell_type": "markdown",
   "metadata": {},
   "source": [
    "### Dropping the rows which have \"not assigned\" values for Borough"
   ]
  },
  {
   "cell_type": "code",
   "execution_count": 30,
   "metadata": {},
   "outputs": [
    {
     "data": {
      "text/html": [
       "<div>\n",
       "<style scoped>\n",
       "    .dataframe tbody tr th:only-of-type {\n",
       "        vertical-align: middle;\n",
       "    }\n",
       "\n",
       "    .dataframe tbody tr th {\n",
       "        vertical-align: top;\n",
       "    }\n",
       "\n",
       "    .dataframe thead th {\n",
       "        text-align: right;\n",
       "    }\n",
       "</style>\n",
       "<table border=\"1\" class=\"dataframe\">\n",
       "  <thead>\n",
       "    <tr style=\"text-align: right;\">\n",
       "      <th></th>\n",
       "      <th>PostalCode</th>\n",
       "      <th>Borough</th>\n",
       "      <th>Neighborhood</th>\n",
       "    </tr>\n",
       "  </thead>\n",
       "  <tbody>\n",
       "    <tr>\n",
       "      <th>0</th>\n",
       "      <td>M3A</td>\n",
       "      <td>North York</td>\n",
       "      <td>Parkwoods</td>\n",
       "    </tr>\n",
       "    <tr>\n",
       "      <th>1</th>\n",
       "      <td>M4A</td>\n",
       "      <td>North York</td>\n",
       "      <td>Victoria Village</td>\n",
       "    </tr>\n",
       "    <tr>\n",
       "      <th>2</th>\n",
       "      <td>M5A</td>\n",
       "      <td>Downtown Toronto</td>\n",
       "      <td>Regent Park, Harbourfront</td>\n",
       "    </tr>\n",
       "    <tr>\n",
       "      <th>3</th>\n",
       "      <td>M6A</td>\n",
       "      <td>North York</td>\n",
       "      <td>Lawrence Manor, Lawrence Heights</td>\n",
       "    </tr>\n",
       "    <tr>\n",
       "      <th>4</th>\n",
       "      <td>M7A</td>\n",
       "      <td>Downtown Toronto</td>\n",
       "      <td>Queen's Park, Ontario Provincial Government</td>\n",
       "    </tr>\n",
       "  </tbody>\n",
       "</table>\n",
       "</div>"
      ],
      "text/plain": [
       "  PostalCode           Borough                                 Neighborhood\n",
       "0        M3A        North York                                    Parkwoods\n",
       "1        M4A        North York                             Victoria Village\n",
       "2        M5A  Downtown Toronto                    Regent Park, Harbourfront\n",
       "3        M6A        North York             Lawrence Manor, Lawrence Heights\n",
       "4        M7A  Downtown Toronto  Queen's Park, Ontario Provincial Government"
      ]
     },
     "execution_count": 30,
     "metadata": {},
     "output_type": "execute_result"
    }
   ],
   "source": [
    "dataset = dataset[dataset['Borough'] != 'Not assigned']\n",
    "dataset.reset_index(drop = True, inplace = True)\n",
    "dataset.head()"
   ]
  },
  {
   "cell_type": "markdown",
   "metadata": {},
   "source": [
    "### Assign Neighbourhood to same as Borough if it is \"Not assigned\"."
   ]
  },
  {
   "cell_type": "code",
   "execution_count": 31,
   "metadata": {},
   "outputs": [],
   "source": [
    "dataset['Neighborhood'] = dataset['Neighborhood'].str.split('\\n', expand = True)[0]\n",
    "dataset.loc[dataset['Neighborhood'] == 'Not assigned', 'Neighborhood'] = dataset.loc[dataset['Neighborhood'] == 'Not assigned', 'Borough']"
   ]
  },
  {
   "cell_type": "markdown",
   "metadata": {},
   "source": [
    "### Grouping with respect to PostalCode and Borough"
   ]
  },
  {
   "cell_type": "code",
   "execution_count": 32,
   "metadata": {},
   "outputs": [],
   "source": [
    "dataset = dataset.groupby(['PostalCode', 'Borough'])['Neighborhood'].apply(', '.join).reset_index()"
   ]
  },
  {
   "cell_type": "code",
   "execution_count": 33,
   "metadata": {},
   "outputs": [
    {
     "data": {
      "text/html": [
       "<div>\n",
       "<style scoped>\n",
       "    .dataframe tbody tr th:only-of-type {\n",
       "        vertical-align: middle;\n",
       "    }\n",
       "\n",
       "    .dataframe tbody tr th {\n",
       "        vertical-align: top;\n",
       "    }\n",
       "\n",
       "    .dataframe thead th {\n",
       "        text-align: right;\n",
       "    }\n",
       "</style>\n",
       "<table border=\"1\" class=\"dataframe\">\n",
       "  <thead>\n",
       "    <tr style=\"text-align: right;\">\n",
       "      <th></th>\n",
       "      <th>PostalCode</th>\n",
       "      <th>Borough</th>\n",
       "      <th>Neighborhood</th>\n",
       "    </tr>\n",
       "  </thead>\n",
       "  <tbody>\n",
       "    <tr>\n",
       "      <th>0</th>\n",
       "      <td>M1B</td>\n",
       "      <td>Scarborough</td>\n",
       "      <td>Malvern, Rouge</td>\n",
       "    </tr>\n",
       "    <tr>\n",
       "      <th>1</th>\n",
       "      <td>M1C</td>\n",
       "      <td>Scarborough</td>\n",
       "      <td>Rouge Hill, Port Union, Highland Creek</td>\n",
       "    </tr>\n",
       "    <tr>\n",
       "      <th>2</th>\n",
       "      <td>M1E</td>\n",
       "      <td>Scarborough</td>\n",
       "      <td>Guildwood, Morningside, West Hill</td>\n",
       "    </tr>\n",
       "    <tr>\n",
       "      <th>3</th>\n",
       "      <td>M1G</td>\n",
       "      <td>Scarborough</td>\n",
       "      <td>Woburn</td>\n",
       "    </tr>\n",
       "    <tr>\n",
       "      <th>4</th>\n",
       "      <td>M1H</td>\n",
       "      <td>Scarborough</td>\n",
       "      <td>Cedarbrae</td>\n",
       "    </tr>\n",
       "  </tbody>\n",
       "</table>\n",
       "</div>"
      ],
      "text/plain": [
       "  PostalCode      Borough                            Neighborhood\n",
       "0        M1B  Scarborough                          Malvern, Rouge\n",
       "1        M1C  Scarborough  Rouge Hill, Port Union, Highland Creek\n",
       "2        M1E  Scarborough       Guildwood, Morningside, West Hill\n",
       "3        M1G  Scarborough                                  Woburn\n",
       "4        M1H  Scarborough                               Cedarbrae"
      ]
     },
     "execution_count": 33,
     "metadata": {},
     "output_type": "execute_result"
    }
   ],
   "source": [
    "dataset.head()"
   ]
  },
  {
   "cell_type": "markdown",
   "metadata": {},
   "source": [
    "### The shape of the final dataset\n",
    "##### I will save the new dataset as a csv file for future purposes"
   ]
  },
  {
   "cell_type": "code",
   "execution_count": 35,
   "metadata": {},
   "outputs": [
    {
     "name": "stdout",
     "output_type": "stream",
     "text": [
      "Dataset shape: (103, 3)\n"
     ]
    }
   ],
   "source": [
    "dataset.to_csv('dataset.csv', index = False)\n",
    "print(\"Dataset shape: {}\".format(dataset.shape))"
   ]
  },
  {
   "cell_type": "code",
   "execution_count": null,
   "metadata": {},
   "outputs": [],
   "source": []
  }
 ],
 "metadata": {
  "kernelspec": {
   "display_name": "Python 3",
   "language": "python",
   "name": "python3"
  },
  "language_info": {
   "codemirror_mode": {
    "name": "ipython",
    "version": 3
   },
   "file_extension": ".py",
   "mimetype": "text/x-python",
   "name": "python",
   "nbconvert_exporter": "python",
   "pygments_lexer": "ipython3",
   "version": "3.7.0"
  }
 },
 "nbformat": 4,
 "nbformat_minor": 2
}
